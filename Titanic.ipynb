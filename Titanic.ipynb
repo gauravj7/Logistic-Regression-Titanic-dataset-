{
 "cells": [
  {
   "cell_type": "code",
   "execution_count": 138,
   "metadata": {},
   "outputs": [],
   "source": [
    "import numpy as np\n",
    "from sklearn.linear_model import LogisticRegression"
   ]
  },
  {
   "cell_type": "code",
   "execution_count": 139,
   "metadata": {},
   "outputs": [],
   "source": [
    "import pandas as pd\n",
    "train_df = pd.read_csv(\"train.csv\")\n",
    "test_df = pd.read_csv(\"test.csv\")\n",
    "#y_train = train_df[\"Survived\"]\n",
    "#train_df.shape,train_df.isnull().sum()\n",
    "#del train_df[\"Survived\"]\n",
    "#train_df"
   ]
  },
  {
   "cell_type": "code",
   "execution_count": 140,
   "metadata": {
    "scrolled": true
   },
   "outputs": [],
   "source": [
    "train_df.drop('Cabin',axis = 1, inplace = True)\n",
    "train_df.drop(['Name','Ticket'], axis =1, inplace = True)"
   ]
  },
  {
   "cell_type": "code",
   "execution_count": 141,
   "metadata": {},
   "outputs": [
    {
     "data": {
      "text/plain": [
       "(24.115339578454332,\n",
       " 23.32883817427386,\n",
       "      Pclass  Sex        Age  SibSp  Parch      Fare  Embarked  Survived\n",
       " 0         2    1  29.000000      1      0   26.0000         0         1\n",
       " 1         3    0  24.115340      0      0    8.0500         0         0\n",
       " 2         2    0  39.000000      0      0   26.0000         0         0\n",
       " 3         3    1  29.000000      0      4   21.0750         0         0\n",
       " 4         3    0  25.000000      0      0    7.0500         0         0\n",
       " 5         3    0  34.500000      0      0    6.4375         2         0\n",
       " 6         1    1  35.000000      1      0   53.1000         0         1\n",
       " 7         3    0  23.000000      0      0    7.8958         0         0\n",
       " 8         2    0  24.115340      0      0   13.0000         0         1\n",
       " 9         3    0  50.000000      0      0    8.0500         0         0\n",
       " 10        3    1  23.000000      0      0    7.5500         0         1\n",
       " 11        3    0  24.115340      0      0    7.2292         2         0\n",
       " 12        2    0  36.000000      0      0   13.0000         0         0\n",
       " 13        3    0  24.115340      1      0   15.5000         1         0\n",
       " 14        3    1  23.328838      0      0    7.7500         1         1\n",
       " 15        3    0  28.000000      2      0    7.9250         0         0\n",
       " 16        3    0  32.000000      0      0    7.8542         0         1\n",
       " 17        3    0  42.000000      0      0    7.5500         0         0\n",
       " 18        1    0  38.000000      0      1  153.4625         0         0\n",
       " 19        3    1  23.328838      0      0    7.7500         1         1\n",
       " 20        1    0  38.000000      0      0    0.0000         0         0\n",
       " 21        3    1  23.328838      0      2   15.2458         2         0\n",
       " 22        2    1  40.000000      0      0   15.7500         0         1\n",
       " 23        3    0  24.500000      0      0    8.0500         0         0\n",
       " 24        3    1  23.328838      0      0    7.2250         2         1\n",
       " 25        3    1  23.328838      8      2   69.5500         0         0\n",
       " 26        1    0  39.000000      0      0    0.0000         0         0\n",
       " 27        1    0  22.000000      0      0  135.6333         2         0\n",
       " 28        3    0  16.000000      0      0    7.7750         0         0\n",
       " 29        2    0  30.000000      0      0   13.0000         0         0\n",
       " ..      ...  ...        ...    ...    ...       ...       ...       ...\n",
       " 638       3    0  24.000000      2      0   24.1500         0         0\n",
       " 639       2    1  22.000000      1      2   41.5792         2         1\n",
       " 640       3    1  23.328838      3      1   25.4667         0         0\n",
       " 641       3    0  32.000000      0      0    7.9250         0         1\n",
       " 642       1    0  42.000000      0      0   26.2875         0         1\n",
       " 643       3    0  17.000000      0      0    7.1250         0         0\n",
       " 644       1    0  24.115340      0      0   25.9250         0         0\n",
       " 645       2    0   0.830000      1      1   18.7500         0         1\n",
       " 646       3    1   9.000000      2      2   34.3750         0         0\n",
       " 647       1    0  58.000000      0      0   29.7000         2         0\n",
       " 648       2    0  28.000000      0      1   33.0000         0         0\n",
       " 649       3    0  26.000000      0      0    8.0500         0         0\n",
       " 650       3    0  47.000000      0      0    9.0000         0         0\n",
       " 651       3    0  24.115340      1      0   16.1000         0         0\n",
       " 652       2    1  33.000000      1      2   27.7500         0         1\n",
       " 653       3    1  47.000000      1      0   14.5000         0         0\n",
       " 654       3    0  24.115340      0      0    7.8958         0         0\n",
       " 655       1    0  42.000000      1      0   52.5542         0         1\n",
       " 656       3    0  36.000000      0      0    7.8958         0         0\n",
       " 657       3    0  38.000000      0      0    8.6625         0         0\n",
       " 658       3    1  38.000000      1      5   31.3875         0         1\n",
       " 659       3    0  24.115340      0      0    7.8292         1         0\n",
       " 660       2    0   1.000000      2      1   39.0000         0         1\n",
       " 661       1    1  23.328838      1      0   82.1708         2         1\n",
       " 662       1    0  47.000000      0      0   34.0208         0         0\n",
       " 663       2    1  17.000000      0      0   10.5000         0         1\n",
       " 664       3    0  24.115340      0      0    7.7500         1         0\n",
       " 665       3    0  32.000000      0      0   56.4958         0         1\n",
       " 666       3    1  22.000000      0      0    9.8375         0         0\n",
       " 667       3    1  23.328838      1      0   15.5000         1         1\n",
       " \n",
       " [668 rows x 8 columns])"
      ]
     },
     "execution_count": 141,
     "metadata": {},
     "output_type": "execute_result"
    }
   ],
   "source": [
    "def sex(s):\n",
    "    if s==\"male\":\n",
    "        return 0\n",
    "    else:\n",
    "        return 1\n",
    "\n",
    "def embarked(s):\n",
    "    if s==\"C\":\n",
    "        return 2\n",
    "    elif s==\"S\":\n",
    "        return 0\n",
    "    else:\n",
    "        return 1\n",
    "\n",
    "def meanagemale(age,sex):\n",
    "    count =0\n",
    "    for i in range(0,len(sex)):\n",
    "        if sex[i]==0:\n",
    "            count+=1\n",
    "    sum = 0\n",
    "    for i in range(0,len(age)):\n",
    "        if sex[i]==0:\n",
    "            sum+=age[i]\n",
    "    return sum/count\n",
    "\n",
    "def meanagefemale(age,sex):\n",
    "    count =0\n",
    "    for i in range(0,len(sex)):\n",
    "        if sex[i]==1:\n",
    "            count+=1\n",
    "    sum = 0\n",
    "    for i in range(0,len(age)):\n",
    "        if sex[i]==1:\n",
    "            sum+=age[i]\n",
    "    return sum/count\n",
    "\n",
    "train_df.Age.fillna(0, inplace=True)\n",
    "train_df[\"Sex\"] = train_df.Sex.apply(sex)\n",
    "train_df[\"Embarked\"] = train_df.Embarked.apply(embarked)\n",
    "train_age_male = meanagemale(train_df['Age'],train_df['Sex'])\n",
    "train_age_female = meanagefemale(train_df['Age'],train_df['Sex'])\n",
    "\n",
    "\n",
    "\n",
    "train_df.loc[(train_df.Sex==0) & (train_df.Age==0),\"Age\"] = train_age_male\n",
    "train_df.loc[(train_df.Sex==1) & (train_df.Age==0),\"Age\"] = train_age_female\n",
    "\n",
    "clf = LogisticRegression()\n",
    "clf.fit(train_df.drop('Survived', axis = 1),train_df['Survived'])\n",
    "train_age_male,train_age_female,train_df"
   ]
  },
  {
   "cell_type": "code",
   "execution_count": 142,
   "metadata": {},
   "outputs": [],
   "source": [
    "test_df.drop('Cabin',axis = 1, inplace = True)\n",
    "test_df.drop(['Name','Ticket'], axis =1, inplace = True)\n",
    "test_df.Age.fillna(0, inplace=True)"
   ]
  },
  {
   "cell_type": "code",
   "execution_count": 143,
   "metadata": {},
   "outputs": [],
   "source": [
    "test_df[\"Sex\"] = test_df.Sex.apply(sex)\n",
    "test_df[\"Embarked\"] = test_df.Embarked.apply(embarked)\n",
    "\n",
    "test_age_male = meanagemale(test_df['Age'],test_df['Sex'])\n",
    "test_age_female = meanagefemale(test_df['Age'],test_df['Sex'])\n",
    "\n",
    "\n",
    "test_df.loc[(test_df.Sex==0)& (test_df.Age==0),\"Age\"] = test_age_male\n",
    "test_df.loc[(test_df.Sex==1)& (test_df.Age==0),\"Age\"] = test_age_female\n",
    "\n",
    "\n",
    "output = clf.predict(test_df)"
   ]
  },
  {
   "cell_type": "code",
   "execution_count": 144,
   "metadata": {},
   "outputs": [],
   "source": [
    "np.savetxt(\"output.csv\", output)"
   ]
  },
  {
   "cell_type": "code",
   "execution_count": 11,
   "metadata": {},
   "outputs": [],
   "source": [
    "#print(output)"
   ]
  },
  {
   "cell_type": "code",
   "execution_count": 13,
   "metadata": {},
   "outputs": [],
   "source": [
    "#clf.score()"
   ]
  },
  {
   "cell_type": "code",
   "execution_count": null,
   "metadata": {},
   "outputs": [],
   "source": []
  }
 ],
 "metadata": {
  "kernelspec": {
   "display_name": "Python 3",
   "language": "python",
   "name": "python3"
  },
  "language_info": {
   "codemirror_mode": {
    "name": "ipython",
    "version": 3
   },
   "file_extension": ".py",
   "mimetype": "text/x-python",
   "name": "python",
   "nbconvert_exporter": "python",
   "pygments_lexer": "ipython3",
   "version": "3.6.5"
  }
 },
 "nbformat": 4,
 "nbformat_minor": 2
}
